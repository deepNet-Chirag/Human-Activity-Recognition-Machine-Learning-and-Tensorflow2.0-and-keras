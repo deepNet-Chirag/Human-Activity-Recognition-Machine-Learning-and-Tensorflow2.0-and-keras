{
 "cells": [
  {
   "cell_type": "markdown",
   "id": "swedish-story",
   "metadata": {},
   "source": [
    "# Importing Library"
   ]
  },
  {
   "cell_type": "code",
   "execution_count": 12,
   "id": "ordinary-monkey",
   "metadata": {},
   "outputs": [],
   "source": [
    "import warnings\n",
    "warnings.filterwarnings(\"ignore\")\n",
    "import numpy as np\n",
    "import pandas as pd\n",
    "import tensorflow as tf\n",
    "from tensorflow.keras.models import Sequential\n",
    "from tensorflow.keras.layers import Dense , LSTM , Dropout , Dropout ,Flatten\n",
    "from sklearn.metrics import accuracy_score , confusion_matrix , classification_report"
   ]
  },
  {
   "cell_type": "markdown",
   "id": "connected-species",
   "metadata": {},
   "source": [
    " "
   ]
  },
  {
   "cell_type": "markdown",
   "id": "optical-annotation",
   "metadata": {},
   "source": [
    "# Data Preparation"
   ]
  },
  {
   "cell_type": "code",
   "execution_count": 2,
   "id": "secret-boating",
   "metadata": {},
   "outputs": [],
   "source": [
    "ACTIVITIES = {\n",
    "    0: 'WALKING',\n",
    "    1: 'WALKING_UPSTAIRS',\n",
    "    2: 'WALKING_DOWNSTAIRS',\n",
    "    3: 'SITTING',\n",
    "    4: 'STANDING',\n",
    "    5: 'LAYING',\n",
    "}\n",
    "\n",
    "SIGNALS = [\n",
    "    \"body_acc_x\",\n",
    "    \"body_acc_y\",\n",
    "    \"body_acc_z\",\n",
    "    \"body_gyro_x\",\n",
    "    \"body_gyro_y\",\n",
    "    \"body_gyro_z\",\n",
    "    \"total_acc_x\",\n",
    "    \"total_acc_y\",\n",
    "    \"total_acc_z\"\n",
    "]\n",
    "\n",
    "DATADIR = 'UCI_HAR_Dataset'"
   ]
  },
  {
   "cell_type": "code",
   "execution_count": 3,
   "id": "typical-above",
   "metadata": {},
   "outputs": [],
   "source": [
    "def _read_csv(filename):\n",
    "    return pd.read_csv(filename , header = None , delim_whitespace = True)\n",
    "\n",
    "def load_signal(subset):\n",
    "    signal_data = []\n",
    "    \n",
    "    for signal in SIGNALS:\n",
    "        filename = f'UCI_HAR_Dataset/{subset}/Inertial Signals/{signal}_{subset}.txt'\n",
    "        signal_data.append(\n",
    "            _read_csv(filename).to_numpy()\n",
    "        ) \n",
    "    return np.transpose(signal_data, (1, 2, 0))\n",
    "\n",
    "\n",
    "def load_y(subset):\n",
    "    filename = f'UCI_HAR_Dataset/{subset}/y_{subset}.txt'\n",
    "    y = _read_csv(filename)[0]\n",
    "\n",
    "    return pd.get_dummies(y).to_numpy()\n",
    "\n",
    "def load_data():\n",
    "    \n",
    "    X_train, X_test = load_signal('train'), load_signal('test')\n",
    "    y_train, y_test = load_y('train'), load_y('test')\n",
    "\n",
    "    return X_train, X_test, y_train, y_test"
   ]
  },
  {
   "cell_type": "code",
   "execution_count": 4,
   "id": "looking-master",
   "metadata": {},
   "outputs": [],
   "source": [
    "Xtrain , Xtest , Ytrain , Ytest = load_data()"
   ]
  },
  {
   "cell_type": "code",
   "execution_count": 5,
   "id": "freelance-celebration",
   "metadata": {},
   "outputs": [
    {
     "name": "stdout",
     "output_type": "stream",
     "text": [
      "(7352, 128, 9)\n",
      "(7352, 6)\n",
      "(2947, 128, 9)\n",
      "(2947, 6)\n"
     ]
    }
   ],
   "source": [
    "print(Xtrain.shape)\n",
    "print(Ytrain.shape)\n",
    "print(Xtest.shape)\n",
    "print(Ytest.shape)"
   ]
  },
  {
   "cell_type": "markdown",
   "id": "contemporary-belief",
   "metadata": {},
   "source": [
    " "
   ]
  },
  {
   "cell_type": "markdown",
   "id": "detailed-effects",
   "metadata": {},
   "source": [
    "# LSTM Sequence Modeling"
   ]
  },
  {
   "cell_type": "code",
   "execution_count": 6,
   "id": "median-group",
   "metadata": {},
   "outputs": [
    {
     "name": "stdout",
     "output_type": "stream",
     "text": [
      "Model: \"sequential\"\n",
      "_________________________________________________________________\n",
      "Layer (type)                 Output Shape              Param #   \n",
      "=================================================================\n",
      "lstm (LSTM)                  (None, 32)                5376      \n",
      "_________________________________________________________________\n",
      "dropout (Dropout)            (None, 32)                0         \n",
      "_________________________________________________________________\n",
      "flatten (Flatten)            (None, 32)                0         \n",
      "_________________________________________________________________\n",
      "dense (Dense)                (None, 30)                990       \n",
      "_________________________________________________________________\n",
      "dense_1 (Dense)              (None, 6)                 186       \n",
      "=================================================================\n",
      "Total params: 6,552\n",
      "Trainable params: 6,552\n",
      "Non-trainable params: 0\n",
      "_________________________________________________________________\n"
     ]
    }
   ],
   "source": [
    "model = Sequential()\n",
    "model.add(LSTM(32,input_shape = (128,9)))\n",
    "model.add(Dropout(0.5))\n",
    "model.add(Flatten())\n",
    "model.add(Dense(30 , activation = \"relu\"))\n",
    "model.add(Dense(6, activation = \"softmax\" ))\n",
    "\n",
    "model.summary()"
   ]
  },
  {
   "cell_type": "markdown",
   "id": "acknowledged-failure",
   "metadata": {},
   "source": [
    " "
   ]
  },
  {
   "cell_type": "markdown",
   "id": "considered-estonia",
   "metadata": {},
   "source": [
    "# Training"
   ]
  },
  {
   "cell_type": "code",
   "execution_count": 27,
   "id": "upper-middle",
   "metadata": {},
   "outputs": [
    {
     "name": "stdout",
     "output_type": "stream",
     "text": [
      "Epoch 1/7\n",
      "WARNING:tensorflow:AutoGraph could not transform <function Model.make_train_function.<locals>.train_function at 0x0000027A63F90318> and will run it as-is.\n",
      "Please report this to the TensorFlow team. When filing the bug, set the verbosity to 10 (on Linux, `export AUTOGRAPH_VERBOSITY=10`) and attach the full output.\n",
      "Cause: 'arguments' object has no attribute 'posonlyargs'\n",
      "To silence this warning, decorate the function with @tf.autograph.experimental.do_not_convert\n",
      "WARNING: AutoGraph could not transform <function Model.make_train_function.<locals>.train_function at 0x0000027A63F90318> and will run it as-is.\n",
      "Please report this to the TensorFlow team. When filing the bug, set the verbosity to 10 (on Linux, `export AUTOGRAPH_VERBOSITY=10`) and attach the full output.\n",
      "Cause: 'arguments' object has no attribute 'posonlyargs'\n",
      "To silence this warning, decorate the function with @tf.autograph.experimental.do_not_convert\n",
      "368/368 [==============================] - ETA: 0s - loss: 0.1375 - accuracy: 0.9453WARNING:tensorflow:AutoGraph could not transform <function Model.make_test_function.<locals>.test_function at 0x0000027B772B7EE8> and will run it as-is.\n",
      "Please report this to the TensorFlow team. When filing the bug, set the verbosity to 10 (on Linux, `export AUTOGRAPH_VERBOSITY=10`) and attach the full output.\n",
      "Cause: 'arguments' object has no attribute 'posonlyargs'\n",
      "To silence this warning, decorate the function with @tf.autograph.experimental.do_not_convert\n",
      "WARNING: AutoGraph could not transform <function Model.make_test_function.<locals>.test_function at 0x0000027B772B7EE8> and will run it as-is.\n",
      "Please report this to the TensorFlow team. When filing the bug, set the verbosity to 10 (on Linux, `export AUTOGRAPH_VERBOSITY=10`) and attach the full output.\n",
      "Cause: 'arguments' object has no attribute 'posonlyargs'\n",
      "To silence this warning, decorate the function with @tf.autograph.experimental.do_not_convert\n",
      "368/368 [==============================] - 5s 14ms/step - loss: 0.1375 - accuracy: 0.9453 - val_loss: 0.3907 - val_accuracy: 0.9131\n",
      "Epoch 2/7\n",
      "368/368 [==============================] - 3s 8ms/step - loss: 0.1365 - accuracy: 0.9498 - val_loss: 0.5153 - val_accuracy: 0.8880\n",
      "Epoch 3/7\n",
      "368/368 [==============================] - 3s 8ms/step - loss: 0.1443 - accuracy: 0.9456 - val_loss: 0.3861 - val_accuracy: 0.9063\n",
      "Epoch 4/7\n",
      "368/368 [==============================] - 3s 9ms/step - loss: 0.1257 - accuracy: 0.9482 - val_loss: 0.3373 - val_accuracy: 0.9169\n",
      "Epoch 5/7\n",
      "368/368 [==============================] - 4s 10ms/step - loss: 0.1225 - accuracy: 0.9490 - val_loss: 0.3437 - val_accuracy: 0.9084\n",
      "Epoch 6/7\n",
      "368/368 [==============================] - 3s 9ms/step - loss: 0.1247 - accuracy: 0.9502 - val_loss: 0.3809 - val_accuracy: 0.9040\n",
      "Epoch 7/7\n",
      "368/368 [==============================] - 3s 7ms/step - loss: 0.1181 - accuracy: 0.9518 - val_loss: 0.4316 - val_accuracy: 0.9091\n"
     ]
    },
    {
     "data": {
      "text/plain": [
       "<tensorflow.python.keras.callbacks.History at 0x27a63fcfec8>"
      ]
     },
     "execution_count": 27,
     "metadata": {},
     "output_type": "execute_result"
    }
   ],
   "source": [
    "model.compile(optimizer = \"adam\" , loss= \"categorical_crossentropy\" , metrics = [\"accuracy\"])\n",
    "model.fit(Xtrain , Ytrain , epochs = 7 , batch_size = 20 , validation_data = (Xtest , Ytest))"
   ]
  },
  {
   "cell_type": "code",
   "execution_count": 28,
   "id": "boolean-westminster",
   "metadata": {},
   "outputs": [
    {
     "name": "stdout",
     "output_type": "stream",
     "text": [
      "93/93 [==============================] - 1s 7ms/step - loss: 0.4316 - accuracy: 0.9091\n"
     ]
    }
   ],
   "source": [
    "loss , accuracy = model.evaluate(Xtest, Ytest )"
   ]
  },
  {
   "cell_type": "code",
   "execution_count": 29,
   "id": "creative-support",
   "metadata": {},
   "outputs": [
    {
     "name": "stdout",
     "output_type": "stream",
     "text": [
      "Loss on test : 0.43157389760017395\n",
      "Accuracy on test : 90.91 %\n"
     ]
    }
   ],
   "source": [
    "print(\"Loss on test :\",loss)\n",
    "print(\"Accuracy on test :\",round(accuracy*100,2),\"%\")"
   ]
  },
  {
   "cell_type": "code",
   "execution_count": null,
   "id": "linear-cabin",
   "metadata": {},
   "outputs": [],
   "source": []
  }
 ],
 "metadata": {
  "kernelspec": {
   "display_name": "Python 3",
   "language": "python",
   "name": "python3"
  },
  "language_info": {
   "codemirror_mode": {
    "name": "ipython",
    "version": 3
   },
   "file_extension": ".py",
   "mimetype": "text/x-python",
   "name": "python",
   "nbconvert_exporter": "python",
   "pygments_lexer": "ipython3",
   "version": "3.7.9"
  }
 },
 "nbformat": 4,
 "nbformat_minor": 5
}
